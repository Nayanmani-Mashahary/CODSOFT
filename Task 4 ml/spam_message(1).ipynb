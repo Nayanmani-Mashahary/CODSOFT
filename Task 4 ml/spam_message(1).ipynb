{
  "nbformat": 4,
  "nbformat_minor": 0,
  "metadata": {
    "colab": {
      "provenance": []
    },
    "kernelspec": {
      "name": "python3",
      "display_name": "Python 3"
    },
    "language_info": {
      "name": "python"
    }
  },
  "cells": [
    {
      "cell_type": "code",
      "execution_count": null,
      "metadata": {
        "colab": {
          "base_uri": "https://localhost:8080/"
        },
        "id": "a0m9PpcHROEy",
        "outputId": "63922775-719b-46f1-8ed6-f09e0d2db433"
      },
      "outputs": [
        {
          "output_type": "stream",
          "name": "stdout",
          "text": [
            "Drive already mounted at /content/drive; to attempt to forcibly remount, call drive.mount(\"/content/drive\", force_remount=True).\n",
            "  Preparing metadata (setup.py) ... \u001b[?25l\u001b[?25hdone\n",
            "  Building wheel for fpdf (setup.py) ... \u001b[?25l\u001b[?25hdone\n"
          ]
        }
      ],
      "source": [
        "from google.colab import drive\n",
        "drive.mount('/content/drive')\n",
        "\n",
        "!pip install scikit-learn fpdf -q"
      ]
    },
    {
      "cell_type": "code",
      "source": [
        "import pandas as pd\n",
        "import os\n",
        "\n",
        "data_path = '/content/drive/MyDrive/spam sms/spam.csv'\n",
        "output_folder = '/content/drive/MyDrive/spam sms/'\n",
        "\n",
        "df = pd.read_csv(data_path, encoding='latin1')\n",
        "print(\"Loaded data shape:\", df.shape)\n",
        "\n",
        "df = df[['v1', 'v2']]\n",
        "df.columns = ['label', 'message']\n",
        "print(df.head())\n",
        "print(\"\\nLabel distribution:\\n\", df['label'].value_counts())\n"
      ],
      "metadata": {
        "colab": {
          "base_uri": "https://localhost:8080/"
        },
        "id": "Q1ZPMR-lVdjl",
        "outputId": "0cdd7d7d-69ed-446e-c098-24d43480fbff"
      },
      "execution_count": null,
      "outputs": [
        {
          "output_type": "stream",
          "name": "stdout",
          "text": [
            "Loaded data shape: (5572, 5)\n",
            "  label                                            message\n",
            "0   ham  Go until jurong point, crazy.. Available only ...\n",
            "1   ham                      Ok lar... Joking wif u oni...\n",
            "2  spam  Free entry in 2 a wkly comp to win FA Cup fina...\n",
            "3   ham  U dun say so early hor... U c already then say...\n",
            "4   ham  Nah I don't think he goes to usf, he lives aro...\n",
            "\n",
            "Label distribution:\n",
            " label\n",
            "ham     4825\n",
            "spam     747\n",
            "Name: count, dtype: int64\n"
          ]
        }
      ]
    },
    {
      "cell_type": "code",
      "source": [
        "from sklearn.model_selection import train_test_split\n",
        "from sklearn.preprocessing import LabelEncoder\n",
        "\n",
        "le = LabelEncoder()\n",
        "df['label_num'] = le.fit_transform(df['label'])\n",
        "\n",
        "X_train, X_test, y_train, y_test = train_test_split(\n",
        "    df['message'], df['label_num'], test_size=0.2, random_state=42, stratify=df['label_num']\n",
        ")\n",
        "\n",
        "print(f\"Train size: {len(X_train)}, Test size: {len(X_test)}\")\n"
      ],
      "metadata": {
        "colab": {
          "base_uri": "https://localhost:8080/"
        },
        "id": "1Lo9HwirVkgb",
        "outputId": "dcbd5afb-ad11-4bf5-952f-3be8e476673f"
      },
      "execution_count": null,
      "outputs": [
        {
          "output_type": "stream",
          "name": "stdout",
          "text": [
            "Train size: 4457, Test size: 1115\n"
          ]
        }
      ]
    },
    {
      "cell_type": "code",
      "source": [
        "from sklearn.feature_extraction.text import TfidfVectorizer\n",
        "import joblib\n",
        "\n",
        "tfidf = TfidfVectorizer(max_features=5000)\n",
        "X_train_tfidf = tfidf.fit_transform(X_train)\n",
        "X_test_tfidf = tfidf.transform(X_test)\n",
        "\n",
        "joblib.dump(tfidf, os.path.join(output_folder, 'tfidf_vectorizer.pkl'))\n",
        "print(\" TF‑IDF done. Shape:\", X_train_tfidf.shape)\n"
      ],
      "metadata": {
        "colab": {
          "base_uri": "https://localhost:8080/"
        },
        "id": "vzfOvWD4VvcZ",
        "outputId": "c2eba596-6816-4ab7-8682-7c2ca45b1481"
      },
      "execution_count": null,
      "outputs": [
        {
          "output_type": "stream",
          "name": "stdout",
          "text": [
            " TF‑IDF done. Shape: (4457, 5000)\n"
          ]
        }
      ]
    },
    {
      "cell_type": "code",
      "source": [
        "from sklearn.naive_bayes import MultinomialNB\n",
        "\n",
        "nb = MultinomialNB()\n",
        "nb.fit(X_train_tfidf, y_train)\n",
        "\n",
        "joblib.dump(nb, os.path.join(output_folder, 'naive_bayes_model.pkl'))\n",
        "print(\"Naive Bayes trained & saved.\")\n"
      ],
      "metadata": {
        "colab": {
          "base_uri": "https://localhost:8080/"
        },
        "id": "LVUSDKNzV3CU",
        "outputId": "fa09f742-f1f0-4cf3-e57a-dde358320467"
      },
      "execution_count": null,
      "outputs": [
        {
          "output_type": "stream",
          "name": "stdout",
          "text": [
            "Naive Bayes trained & saved.\n"
          ]
        }
      ]
    },
    {
      "cell_type": "code",
      "source": [
        "from sklearn.linear_model import LogisticRegression\n",
        "\n",
        "lr = LogisticRegression(max_iter=1000)\n",
        "lr.fit(X_train_tfidf, y_train)\n",
        "\n",
        "joblib.dump(lr, os.path.join(output_folder, 'logistic_regression_model.pkl'))\n",
        "print(\" Logistic Regression trained & saved.\")\n"
      ],
      "metadata": {
        "colab": {
          "base_uri": "https://localhost:8080/"
        },
        "id": "QEoYaqMaV_y5",
        "outputId": "2b305741-ca4a-4950-f662-684053f88166"
      },
      "execution_count": null,
      "outputs": [
        {
          "output_type": "stream",
          "name": "stdout",
          "text": [
            " Logistic Regression trained & saved.\n"
          ]
        }
      ]
    },
    {
      "cell_type": "code",
      "source": [
        "from sklearn.svm import LinearSVC\n",
        "\n",
        "svm = LinearSVC()\n",
        "svm.fit(X_train_tfidf, y_train)\n",
        "\n",
        "joblib.dump(svm, os.path.join(output_folder, 'svm_model.pkl'))\n",
        "print(\"SVM trained & saved.\")\n"
      ],
      "metadata": {
        "colab": {
          "base_uri": "https://localhost:8080/"
        },
        "id": "EfwletcZWHzp",
        "outputId": "5c4c3679-4f18-41de-b075-f78358bf1d3d"
      },
      "execution_count": null,
      "outputs": [
        {
          "output_type": "stream",
          "name": "stdout",
          "text": [
            "SVM trained & saved.\n"
          ]
        }
      ]
    },
    {
      "cell_type": "code",
      "source": [
        "from sklearn.metrics import accuracy_score, classification_report\n",
        "\n",
        "results = {}\n",
        "for name, model in {'NaiveBayes': nb, 'LogReg': lr, 'SVM': svm}.items():\n",
        "    y_pred = model.predict(X_test_tfidf)\n",
        "    acc = accuracy_score(y_test, y_pred)\n",
        "    results[name] = acc\n",
        "    print(f\"\\n{name} Accuracy: {acc:.4f}\")\n",
        "    print(classification_report(y_test, y_pred, target_names=['ham', 'spam']))\n",
        "\n",
        "with open(os.path.join(output_folder, 'model_accuracies.txt'), 'w') as f:\n",
        "    for name, acc in results.items():\n",
        "        f.write(f\"{name}: {acc:.4f}\\n\")\n",
        "print(\" Accuracies saved.\")\n"
      ],
      "metadata": {
        "colab": {
          "base_uri": "https://localhost:8080/"
        },
        "id": "XDib-oheWVMu",
        "outputId": "ea088c65-78bd-41fd-8418-ffe88daec3b3"
      },
      "execution_count": null,
      "outputs": [
        {
          "output_type": "stream",
          "name": "stdout",
          "text": [
            "\n",
            "NaiveBayes Accuracy: 0.9641\n",
            "              precision    recall  f1-score   support\n",
            "\n",
            "         ham       0.96      1.00      0.98       966\n",
            "        spam       1.00      0.73      0.84       149\n",
            "\n",
            "    accuracy                           0.96      1115\n",
            "   macro avg       0.98      0.87      0.91      1115\n",
            "weighted avg       0.97      0.96      0.96      1115\n",
            "\n",
            "\n",
            "LogReg Accuracy: 0.9749\n",
            "              precision    recall  f1-score   support\n",
            "\n",
            "         ham       0.97      1.00      0.99       966\n",
            "        spam       0.99      0.82      0.90       149\n",
            "\n",
            "    accuracy                           0.97      1115\n",
            "   macro avg       0.98      0.91      0.94      1115\n",
            "weighted avg       0.98      0.97      0.97      1115\n",
            "\n",
            "\n",
            "SVM Accuracy: 0.9865\n",
            "              precision    recall  f1-score   support\n",
            "\n",
            "         ham       0.99      1.00      0.99       966\n",
            "        spam       0.99      0.91      0.95       149\n",
            "\n",
            "    accuracy                           0.99      1115\n",
            "   macro avg       0.99      0.95      0.97      1115\n",
            "weighted avg       0.99      0.99      0.99      1115\n",
            "\n",
            " Accuracies saved.\n"
          ]
        }
      ]
    }
  ]
}