{
  "nbformat": 4,
  "nbformat_minor": 0,
  "metadata": {
    "colab": {
      "provenance": [],
      "gpuType": "V28"
    },
    "kernelspec": {
      "name": "python3",
      "display_name": "Python 3"
    },
    "language_info": {
      "name": "python"
    },
    "accelerator": "TPU"
  },
  "cells": [
    {
      "cell_type": "code",
      "execution_count": 1,
      "metadata": {
        "colab": {
          "base_uri": "https://localhost:8080/"
        },
        "id": "TFf4zjnrfxv0",
        "outputId": "1e38d916-7390-40fc-94d6-73730cd311a2"
      },
      "outputs": [
        {
          "output_type": "stream",
          "name": "stdout",
          "text": [
            "Drive already mounted at /content/drive; to attempt to forcibly remount, call drive.mount(\"/content/drive\", force_remount=True).\n"
          ]
        }
      ],
      "source": [
        "from google.colab import drive\n",
        "drive.mount('/content/drive')\n",
        "\n",
        "import pandas as pd"
      ]
    },
    {
      "cell_type": "code",
      "source": [
        "import pandas as pd\n",
        "import os\n",
        "from sklearn.feature_extraction.text import TfidfVectorizer\n",
        "from sklearn.naive_bayes import MultinomialNB\n",
        "from sklearn.linear_model import LogisticRegression\n",
        "from sklearn.svm import LinearSVC\n",
        "from sklearn.metrics import accuracy_score, classification_report\n",
        "from sklearn.preprocessing import LabelEncoder\n"
      ],
      "metadata": {
        "id": "LjnhQcpAmHex"
      },
      "execution_count": null,
      "outputs": []
    },
    {
      "cell_type": "code",
      "source": [
        "dataset_path = \"/content/drive/MyDrive/Genre Classification Dataset\"\n",
        "\n",
        "# Load train and test data\n",
        "train_df = pd.read_csv(os.path.join(dataset_path, 'train_data.txt'), sep=' ::: ', engine='python', names=['id', 'title', 'genre', 'description'])\n",
        "test_df = pd.read_csv(os.path.join(dataset_path, 'test_data.txt'), sep=' ::: ', engine='python', names=['id', 'title', 'description'])\n",
        "test_solution_df = pd.read_csv(os.path.join(dataset_path, 'test_data_solution.txt'), sep=' ::: ', engine='python', names=['id', 'title', 'genre', 'description'])\n",
        "\n",
        "print(\" Train shape:\", train_df.shape)\n",
        "print(\" Test shape:\", test_df.shape)\n",
        "print(\" Train sample:\")\n",
        "print(train_df.head())"
      ],
      "metadata": {
        "colab": {
          "base_uri": "https://localhost:8080/"
        },
        "id": "b4YEhSRTyIKq",
        "outputId": "4eda07c2-3d57-4d96-cf68-1c6aead7ed30"
      },
      "execution_count": null,
      "outputs": [
        {
          "output_type": "stream",
          "name": "stdout",
          "text": [
            " Train shape: (54214, 4)\n",
            " Test shape: (54200, 3)\n",
            " Train sample:\n",
            "   id                             title     genre  \\\n",
            "0   1      Oscar et la dame rose (2009)     drama   \n",
            "1   2                      Cupid (1997)  thriller   \n",
            "2   3  Young, Wild and Wonderful (1980)     adult   \n",
            "3   4             The Secret Sin (1915)     drama   \n",
            "4   5            The Unrecovered (2007)     drama   \n",
            "\n",
            "                                         description  \n",
            "0  Listening in to a conversation between his doc...  \n",
            "1  A brother and sister with a past incestuous re...  \n",
            "2  As the bus empties the students for their fiel...  \n",
            "3  To help their unemployed father make ends meet...  \n",
            "4  The film's title refers not only to the un-rec...  \n"
          ]
        }
      ]
    },
    {
      "cell_type": "code",
      "source": [
        "train_df = train_df.dropna(subset=['genre'])\n",
        "\n",
        "# Encode genre labels\n",
        "label_encoder = LabelEncoder()\n",
        "y_train = label_encoder.fit_transform(train_df['genre'])\n",
        "\n",
        "# Save label encoder if needed\n",
        "import joblib\n",
        "joblib.dump(label_encoder, \"label_encoder.pkl\")\n",
        "\n",
        "# Features: movie descriptions\n",
        "X_train_text = train_df['description']\n",
        "X_test_text = test_df['description']\n",
        "\n",
        "print(\"Labels encoded:\", set(y_train))"
      ],
      "metadata": {
        "colab": {
          "base_uri": "https://localhost:8080/"
        },
        "id": "NNEMc7W4yVZq",
        "outputId": "72047c80-8a36-40c2-ad3e-fa672cdbc999"
      },
      "execution_count": null,
      "outputs": [
        {
          "output_type": "stream",
          "name": "stdout",
          "text": [
            "Labels encoded: {np.int64(0), np.int64(1), np.int64(2), np.int64(3), np.int64(4), np.int64(5), np.int64(6), np.int64(7), np.int64(8), np.int64(9), np.int64(10), np.int64(11), np.int64(12), np.int64(13), np.int64(14), np.int64(15), np.int64(16), np.int64(17), np.int64(18), np.int64(19), np.int64(20), np.int64(21), np.int64(22), np.int64(23), np.int64(24), np.int64(25), np.int64(26)}\n"
          ]
        }
      ]
    },
    {
      "cell_type": "code",
      "source": [
        "tfidf = TfidfVectorizer(max_features=10000)\n",
        "X_train_tfidf = tfidf.fit_transform(X_train_text)\n",
        "X_test_tfidf = tfidf.transform(X_test_text)\n",
        "\n",
        "print(\"TF-IDF shapes - Train:\", X_train_tfidf.shape, \"Test:\", X_test_tfidf.shape)"
      ],
      "metadata": {
        "colab": {
          "base_uri": "https://localhost:8080/"
        },
        "id": "7rW9qd5kyc7P",
        "outputId": "89367171-49b2-4c52-c3d6-ab0bcaad818d"
      },
      "execution_count": null,
      "outputs": [
        {
          "output_type": "stream",
          "name": "stdout",
          "text": [
            "TF-IDF shapes - Train: (54214, 10000) Test: (54200, 10000)\n"
          ]
        }
      ]
    },
    {
      "cell_type": "code",
      "source": [
        "nb_model = MultinomialNB()\n",
        "nb_model.fit(X_train_tfidf, y_train)\n",
        "\n",
        "# Predict on train (just as quick check)\n",
        "y_pred_train_nb = nb_model.predict(X_train_tfidf)\n",
        "print(\"NB Train Accuracy:\", accuracy_score(y_train, y_pred_train_nb))"
      ],
      "metadata": {
        "colab": {
          "base_uri": "https://localhost:8080/"
        },
        "id": "JLqVOx-Zype6",
        "outputId": "29f98f70-5f87-47b2-c95f-7b495a458504"
      },
      "execution_count": null,
      "outputs": [
        {
          "output_type": "stream",
          "name": "stdout",
          "text": [
            "NB Train Accuracy: 0.538975172464677\n"
          ]
        }
      ]
    },
    {
      "cell_type": "code",
      "source": [
        "lr_model = LogisticRegression(max_iter=1000)\n",
        "lr_model.fit(X_train_tfidf, y_train)\n",
        "\n",
        "y_pred_train_lr = lr_model.predict(X_train_tfidf)\n",
        "print(\"LR Train Accuracy:\", accuracy_score(y_train, y_pred_train_lr))\n"
      ],
      "metadata": {
        "colab": {
          "base_uri": "https://localhost:8080/"
        },
        "id": "O03v0aMMy2Nb",
        "outputId": "12a04cc9-0f26-47ac-a516-95dd625d9adc"
      },
      "execution_count": null,
      "outputs": [
        {
          "output_type": "stream",
          "name": "stdout",
          "text": [
            "LR Train Accuracy: 0.6883830744826059\n"
          ]
        }
      ]
    },
    {
      "cell_type": "code",
      "source": [
        "svm_model = LinearSVC()\n",
        "svm_model.fit(X_train_tfidf, y_train)\n",
        "\n",
        "y_pred_train_svm = svm_model.predict(X_train_tfidf)\n",
        "print(\"SVM Train Accuracy:\", accuracy_score(y_train, y_pred_train_svm))"
      ],
      "metadata": {
        "colab": {
          "base_uri": "https://localhost:8080/"
        },
        "id": "BIHqppeg4JnB",
        "outputId": "78a97d84-746e-4f91-cf25-06dd1a6f30bb"
      },
      "execution_count": null,
      "outputs": [
        {
          "output_type": "stream",
          "name": "stdout",
          "text": [
            "SVM Train Accuracy: 0.8482126388017855\n"
          ]
        }
      ]
    },
    {
      "cell_type": "code",
      "source": [
        "\n",
        "y_test_pred_nb = nb_model.predict(X_test_tfidf)\n",
        "y_test_pred_lr = lr_model.predict(X_test_tfidf)\n",
        "y_test_pred_svm = svm_model.predict(X_test_tfidf)\n",
        "\n",
        "genres_nb = label_encoder.inverse_transform(y_test_pred_nb)\n",
        "genres_lr = label_encoder.inverse_transform(y_test_pred_lr)\n",
        "genres_svm = label_encoder.inverse_transform(y_test_pred_svm)\n",
        "\n",
        "print(\"NB sample predictions:\", genres_nb[:5])\n",
        "print(\"LR sample predictions:\", genres_lr[:5])\n",
        "print(\"SVM sample predictions:\", genres_svm[:5])\n"
      ],
      "metadata": {
        "id": "tz_tVy9r8Bgs",
        "colab": {
          "base_uri": "https://localhost:8080/"
        },
        "outputId": "c6822265-1905-40ad-e4ce-cce4e9f6a40f"
      },
      "execution_count": null,
      "outputs": [
        {
          "output_type": "stream",
          "name": "stdout",
          "text": [
            "NB sample predictions: ['drama' 'drama' 'documentary' 'drama' 'drama']\n",
            "LR sample predictions: ['drama' 'drama' 'documentary' 'drama' 'drama']\n",
            "SVM sample predictions: ['drama' 'drama' 'documentary' 'drama' 'drama']\n"
          ]
        }
      ]
    },
    {
      "cell_type": "code",
      "source": [
        "\n",
        "pd.DataFrame({'id': test_df['id'], 'predicted_genre_nb': genres_nb}) \\\n",
        "  .to_csv(os.path.join(dataset_path, 'predictions_nb.csv'), index=False)\n",
        "\n",
        "pd.DataFrame({'id': test_df['id'], 'predicted_genre_lr': genres_lr}) \\\n",
        "  .to_csv(os.path.join(dataset_path, 'predictions_lr.csv'), index=False)\n",
        "\n",
        "pd.DataFrame({'id': test_df['id'], 'predicted_genre_svm': genres_svm}) \\\n",
        "  .to_csv(os.path.join(dataset_path, 'predictions_svm.csv'), index=False)\n",
        "\n",
        "print(\" All predictions and models saved to:\", dataset_path)\n"
      ],
      "metadata": {
        "colab": {
          "base_uri": "https://localhost:8080/"
        },
        "id": "K-LHdYFs_pC7",
        "outputId": "c4480012-409c-486f-b9fa-a17f5605a3da"
      },
      "execution_count": null,
      "outputs": [
        {
          "output_type": "stream",
          "name": "stdout",
          "text": [
            " All predictions and models saved to: /content/drive/MyDrive/Genre Classification Dataset\n"
          ]
        }
      ]
    }
  ]
}